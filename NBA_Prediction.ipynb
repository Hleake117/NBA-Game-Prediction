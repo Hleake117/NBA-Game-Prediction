{
  "nbformat": 4,
  "nbformat_minor": 0,
  "metadata": {
    "colab": {
      "provenance": [],
      "authorship_tag": "ABX9TyMIySCq12XAXWRZs/MLu7uh",
      "include_colab_link": true
    },
    "kernelspec": {
      "name": "python3",
      "display_name": "Python 3"
    },
    "language_info": {
      "name": "python"
    }
  },
  "cells": [
    {
      "cell_type": "markdown",
      "metadata": {
        "id": "view-in-github",
        "colab_type": "text"
      },
      "source": [
        "<a href=\"https://colab.research.google.com/github/Hleake117/NBA-Game-Prediction/blob/main/NBA_Prediction.ipynb\" target=\"_parent\"><img src=\"https://colab.research.google.com/assets/colab-badge.svg\" alt=\"Open In Colab\"/></a>"
      ]
    },
    {
      "cell_type": "markdown",
      "source": [
        "import libraries"
      ],
      "metadata": {
        "id": "SaMu6KZw8UyV"
      }
    },
    {
      "cell_type": "code",
      "source": [
        "import pandas as pd\n",
        "import numpy as np\n",
        "from sklearn.ensemble import RandomForestClassifier\n",
        "from sklearn.model_selection import train_test_split\n",
        "from sklearn.metrics import accuracy_score, classification_report"
      ],
      "metadata": {
        "id": "KDA15L4H8X5N"
      },
      "execution_count": null,
      "outputs": []
    },
    {
      "cell_type": "markdown",
      "source": [
        "load data"
      ],
      "metadata": {
        "id": "NtMgK9sH8urV"
      }
    },
    {
      "cell_type": "code",
      "source": [
        "team_stats = pd.read_csv('/content/TeamStatistics.csv')\n",
        "games = pd.read_csv('/content/Games.csv')"
      ],
      "metadata": {
        "colab": {
          "base_uri": "https://localhost:8080/"
        },
        "id": "YBbZZwZL8wk5",
        "outputId": "bc3ce153-1e5b-4d3f-cbe8-17236fed301a"
      },
      "execution_count": null,
      "outputs": [
        {
          "output_type": "stream",
          "name": "stderr",
          "text": [
            "<ipython-input-215-4c611f9202b7>:2: DtypeWarning: Columns (15) have mixed types. Specify dtype option on import or set low_memory=False.\n",
            "  games = pd.read_csv('/content/Games.csv')\n"
          ]
        }
      ]
    },
    {
      "cell_type": "markdown",
      "source": [
        "prepare training set"
      ],
      "metadata": {
        "id": "dw_0XGXW9A5W"
      }
    },
    {
      "cell_type": "code",
      "source": [
        "# merge the same dataset with itself on gameID\n",
        "matchups = pd.merge(team_stats, team_stats, on='gameId')"
      ],
      "metadata": {
        "id": "32FzrETU9Deg"
      },
      "execution_count": null,
      "outputs": []
    },
    {
      "cell_type": "code",
      "source": [
        "# Remove team-opponent duplicates by filtering to only home team rows\n",
        "matchups = matchups[matchups['teamId_x'] != matchups['teamId_y']]\n",
        "matchups = matchups[matchups['home_x'] == 1]"
      ],
      "metadata": {
        "id": "fj_CLTpa9Y8y"
      },
      "execution_count": null,
      "outputs": []
    },
    {
      "cell_type": "code",
      "source": [
        "# Rename columns to indicate home and away\n",
        "matchups = matchups.rename(columns={\n",
        "    'teamId_x': 'home_teamId',\n",
        "    'teamName_x': 'home_teamName',\n",
        "    'win_x': 'home_win',\n",
        "    'seasonWins_x': 'home_seasonWins',\n",
        "    'seasonLosses_x': 'home_seasonLosses',\n",
        "    'pointsInThePaint_x': 'home_pointsInThePaint',\n",
        "    'pointsFastBreak_x': 'home_pointsFastBreak',\n",
        "    'pointsFromTurnovers_x': 'home_pointsFromTurnovers',\n",
        "    'pointsSecondChance_x': 'home_pointsSecondChance',\n",
        "\n",
        "    'teamId_y': 'away_teamId',\n",
        "    'teamName_y': 'away_teamName',\n",
        "    'seasonWins_y': 'away_seasonWins',\n",
        "    'seasonLosses_y': 'away_seasonLosses',\n",
        "    'pointsInThePaint_y': 'away_pointsInThePaint',\n",
        "    'pointsFastBreak_y': 'away_pointsFastBreak',\n",
        "    'pointsFromTurnovers_y': 'away_pointsFromTurnovers',\n",
        "    'pointsSecondChance_y': 'away_pointsSecondChance',\n",
        "})\n"
      ],
      "metadata": {
        "id": "CVe6j1PX9hO9"
      },
      "execution_count": null,
      "outputs": []
    },
    {
      "cell_type": "markdown",
      "source": [
        "select features"
      ],
      "metadata": {
        "id": "o8pA48SoBGSx"
      }
    },
    {
      "cell_type": "code",
      "source": [
        "#Feature & target\n",
        "x = matchups[[\n",
        "    'pointsInThePaint_x', 'pointsFastBreak_x', 'pointsFromTurnovers_x',\n",
        "    'pointsSecondChance_x', 'seasonWins_x', 'seasonLosses_x',\n",
        "    'pointsInThePaint_y', 'pointsFastBreak_y', 'pointsFromTurnovers_y',\n",
        "    'pointsSecondChance_y', 'seasonWins_y', 'seasonLosses_y'\n",
        "]]\n",
        "y = matchups['win_x'] #the target variable should be 'win_x' before renaming the column"
      ],
      "metadata": {
        "id": "Oh9GjHeSBIi0"
      },
      "execution_count": null,
      "outputs": []
    },
    {
      "cell_type": "code",
      "source": [
        "#Train-test split and model training\n",
        "X_train, X_test, y_train, y_test = train_test_split(X, y, test_size=0.2, random_state=42)\n",
        "rf = RandomForestClassifier(n_estimators=100, random_state=42)\n",
        "rf.fit(X_train, y_train)"
      ],
      "metadata": {
        "colab": {
          "base_uri": "https://localhost:8080/",
          "height": 80
        },
        "id": "QD5qyPpdB9IZ",
        "outputId": "083cdb83-d69b-47a4-f92e-48bbc2466baf"
      },
      "execution_count": null,
      "outputs": [
        {
          "output_type": "execute_result",
          "data": {
            "text/plain": [
              "RandomForestClassifier(random_state=42)"
            ],
            "text/html": [
              "<style>#sk-container-id-8 {\n",
              "  /* Definition of color scheme common for light and dark mode */\n",
              "  --sklearn-color-text: #000;\n",
              "  --sklearn-color-text-muted: #666;\n",
              "  --sklearn-color-line: gray;\n",
              "  /* Definition of color scheme for unfitted estimators */\n",
              "  --sklearn-color-unfitted-level-0: #fff5e6;\n",
              "  --sklearn-color-unfitted-level-1: #f6e4d2;\n",
              "  --sklearn-color-unfitted-level-2: #ffe0b3;\n",
              "  --sklearn-color-unfitted-level-3: chocolate;\n",
              "  /* Definition of color scheme for fitted estimators */\n",
              "  --sklearn-color-fitted-level-0: #f0f8ff;\n",
              "  --sklearn-color-fitted-level-1: #d4ebff;\n",
              "  --sklearn-color-fitted-level-2: #b3dbfd;\n",
              "  --sklearn-color-fitted-level-3: cornflowerblue;\n",
              "\n",
              "  /* Specific color for light theme */\n",
              "  --sklearn-color-text-on-default-background: var(--sg-text-color, var(--theme-code-foreground, var(--jp-content-font-color1, black)));\n",
              "  --sklearn-color-background: var(--sg-background-color, var(--theme-background, var(--jp-layout-color0, white)));\n",
              "  --sklearn-color-border-box: var(--sg-text-color, var(--theme-code-foreground, var(--jp-content-font-color1, black)));\n",
              "  --sklearn-color-icon: #696969;\n",
              "\n",
              "  @media (prefers-color-scheme: dark) {\n",
              "    /* Redefinition of color scheme for dark theme */\n",
              "    --sklearn-color-text-on-default-background: var(--sg-text-color, var(--theme-code-foreground, var(--jp-content-font-color1, white)));\n",
              "    --sklearn-color-background: var(--sg-background-color, var(--theme-background, var(--jp-layout-color0, #111)));\n",
              "    --sklearn-color-border-box: var(--sg-text-color, var(--theme-code-foreground, var(--jp-content-font-color1, white)));\n",
              "    --sklearn-color-icon: #878787;\n",
              "  }\n",
              "}\n",
              "\n",
              "#sk-container-id-8 {\n",
              "  color: var(--sklearn-color-text);\n",
              "}\n",
              "\n",
              "#sk-container-id-8 pre {\n",
              "  padding: 0;\n",
              "}\n",
              "\n",
              "#sk-container-id-8 input.sk-hidden--visually {\n",
              "  border: 0;\n",
              "  clip: rect(1px 1px 1px 1px);\n",
              "  clip: rect(1px, 1px, 1px, 1px);\n",
              "  height: 1px;\n",
              "  margin: -1px;\n",
              "  overflow: hidden;\n",
              "  padding: 0;\n",
              "  position: absolute;\n",
              "  width: 1px;\n",
              "}\n",
              "\n",
              "#sk-container-id-8 div.sk-dashed-wrapped {\n",
              "  border: 1px dashed var(--sklearn-color-line);\n",
              "  margin: 0 0.4em 0.5em 0.4em;\n",
              "  box-sizing: border-box;\n",
              "  padding-bottom: 0.4em;\n",
              "  background-color: var(--sklearn-color-background);\n",
              "}\n",
              "\n",
              "#sk-container-id-8 div.sk-container {\n",
              "  /* jupyter's `normalize.less` sets `[hidden] { display: none; }`\n",
              "     but bootstrap.min.css set `[hidden] { display: none !important; }`\n",
              "     so we also need the `!important` here to be able to override the\n",
              "     default hidden behavior on the sphinx rendered scikit-learn.org.\n",
              "     See: https://github.com/scikit-learn/scikit-learn/issues/21755 */\n",
              "  display: inline-block !important;\n",
              "  position: relative;\n",
              "}\n",
              "\n",
              "#sk-container-id-8 div.sk-text-repr-fallback {\n",
              "  display: none;\n",
              "}\n",
              "\n",
              "div.sk-parallel-item,\n",
              "div.sk-serial,\n",
              "div.sk-item {\n",
              "  /* draw centered vertical line to link estimators */\n",
              "  background-image: linear-gradient(var(--sklearn-color-text-on-default-background), var(--sklearn-color-text-on-default-background));\n",
              "  background-size: 2px 100%;\n",
              "  background-repeat: no-repeat;\n",
              "  background-position: center center;\n",
              "}\n",
              "\n",
              "/* Parallel-specific style estimator block */\n",
              "\n",
              "#sk-container-id-8 div.sk-parallel-item::after {\n",
              "  content: \"\";\n",
              "  width: 100%;\n",
              "  border-bottom: 2px solid var(--sklearn-color-text-on-default-background);\n",
              "  flex-grow: 1;\n",
              "}\n",
              "\n",
              "#sk-container-id-8 div.sk-parallel {\n",
              "  display: flex;\n",
              "  align-items: stretch;\n",
              "  justify-content: center;\n",
              "  background-color: var(--sklearn-color-background);\n",
              "  position: relative;\n",
              "}\n",
              "\n",
              "#sk-container-id-8 div.sk-parallel-item {\n",
              "  display: flex;\n",
              "  flex-direction: column;\n",
              "}\n",
              "\n",
              "#sk-container-id-8 div.sk-parallel-item:first-child::after {\n",
              "  align-self: flex-end;\n",
              "  width: 50%;\n",
              "}\n",
              "\n",
              "#sk-container-id-8 div.sk-parallel-item:last-child::after {\n",
              "  align-self: flex-start;\n",
              "  width: 50%;\n",
              "}\n",
              "\n",
              "#sk-container-id-8 div.sk-parallel-item:only-child::after {\n",
              "  width: 0;\n",
              "}\n",
              "\n",
              "/* Serial-specific style estimator block */\n",
              "\n",
              "#sk-container-id-8 div.sk-serial {\n",
              "  display: flex;\n",
              "  flex-direction: column;\n",
              "  align-items: center;\n",
              "  background-color: var(--sklearn-color-background);\n",
              "  padding-right: 1em;\n",
              "  padding-left: 1em;\n",
              "}\n",
              "\n",
              "\n",
              "/* Toggleable style: style used for estimator/Pipeline/ColumnTransformer box that is\n",
              "clickable and can be expanded/collapsed.\n",
              "- Pipeline and ColumnTransformer use this feature and define the default style\n",
              "- Estimators will overwrite some part of the style using the `sk-estimator` class\n",
              "*/\n",
              "\n",
              "/* Pipeline and ColumnTransformer style (default) */\n",
              "\n",
              "#sk-container-id-8 div.sk-toggleable {\n",
              "  /* Default theme specific background. It is overwritten whether we have a\n",
              "  specific estimator or a Pipeline/ColumnTransformer */\n",
              "  background-color: var(--sklearn-color-background);\n",
              "}\n",
              "\n",
              "/* Toggleable label */\n",
              "#sk-container-id-8 label.sk-toggleable__label {\n",
              "  cursor: pointer;\n",
              "  display: flex;\n",
              "  width: 100%;\n",
              "  margin-bottom: 0;\n",
              "  padding: 0.5em;\n",
              "  box-sizing: border-box;\n",
              "  text-align: center;\n",
              "  align-items: start;\n",
              "  justify-content: space-between;\n",
              "  gap: 0.5em;\n",
              "}\n",
              "\n",
              "#sk-container-id-8 label.sk-toggleable__label .caption {\n",
              "  font-size: 0.6rem;\n",
              "  font-weight: lighter;\n",
              "  color: var(--sklearn-color-text-muted);\n",
              "}\n",
              "\n",
              "#sk-container-id-8 label.sk-toggleable__label-arrow:before {\n",
              "  /* Arrow on the left of the label */\n",
              "  content: \"▸\";\n",
              "  float: left;\n",
              "  margin-right: 0.25em;\n",
              "  color: var(--sklearn-color-icon);\n",
              "}\n",
              "\n",
              "#sk-container-id-8 label.sk-toggleable__label-arrow:hover:before {\n",
              "  color: var(--sklearn-color-text);\n",
              "}\n",
              "\n",
              "/* Toggleable content - dropdown */\n",
              "\n",
              "#sk-container-id-8 div.sk-toggleable__content {\n",
              "  max-height: 0;\n",
              "  max-width: 0;\n",
              "  overflow: hidden;\n",
              "  text-align: left;\n",
              "  /* unfitted */\n",
              "  background-color: var(--sklearn-color-unfitted-level-0);\n",
              "}\n",
              "\n",
              "#sk-container-id-8 div.sk-toggleable__content.fitted {\n",
              "  /* fitted */\n",
              "  background-color: var(--sklearn-color-fitted-level-0);\n",
              "}\n",
              "\n",
              "#sk-container-id-8 div.sk-toggleable__content pre {\n",
              "  margin: 0.2em;\n",
              "  border-radius: 0.25em;\n",
              "  color: var(--sklearn-color-text);\n",
              "  /* unfitted */\n",
              "  background-color: var(--sklearn-color-unfitted-level-0);\n",
              "}\n",
              "\n",
              "#sk-container-id-8 div.sk-toggleable__content.fitted pre {\n",
              "  /* unfitted */\n",
              "  background-color: var(--sklearn-color-fitted-level-0);\n",
              "}\n",
              "\n",
              "#sk-container-id-8 input.sk-toggleable__control:checked~div.sk-toggleable__content {\n",
              "  /* Expand drop-down */\n",
              "  max-height: 200px;\n",
              "  max-width: 100%;\n",
              "  overflow: auto;\n",
              "}\n",
              "\n",
              "#sk-container-id-8 input.sk-toggleable__control:checked~label.sk-toggleable__label-arrow:before {\n",
              "  content: \"▾\";\n",
              "}\n",
              "\n",
              "/* Pipeline/ColumnTransformer-specific style */\n",
              "\n",
              "#sk-container-id-8 div.sk-label input.sk-toggleable__control:checked~label.sk-toggleable__label {\n",
              "  color: var(--sklearn-color-text);\n",
              "  background-color: var(--sklearn-color-unfitted-level-2);\n",
              "}\n",
              "\n",
              "#sk-container-id-8 div.sk-label.fitted input.sk-toggleable__control:checked~label.sk-toggleable__label {\n",
              "  background-color: var(--sklearn-color-fitted-level-2);\n",
              "}\n",
              "\n",
              "/* Estimator-specific style */\n",
              "\n",
              "/* Colorize estimator box */\n",
              "#sk-container-id-8 div.sk-estimator input.sk-toggleable__control:checked~label.sk-toggleable__label {\n",
              "  /* unfitted */\n",
              "  background-color: var(--sklearn-color-unfitted-level-2);\n",
              "}\n",
              "\n",
              "#sk-container-id-8 div.sk-estimator.fitted input.sk-toggleable__control:checked~label.sk-toggleable__label {\n",
              "  /* fitted */\n",
              "  background-color: var(--sklearn-color-fitted-level-2);\n",
              "}\n",
              "\n",
              "#sk-container-id-8 div.sk-label label.sk-toggleable__label,\n",
              "#sk-container-id-8 div.sk-label label {\n",
              "  /* The background is the default theme color */\n",
              "  color: var(--sklearn-color-text-on-default-background);\n",
              "}\n",
              "\n",
              "/* On hover, darken the color of the background */\n",
              "#sk-container-id-8 div.sk-label:hover label.sk-toggleable__label {\n",
              "  color: var(--sklearn-color-text);\n",
              "  background-color: var(--sklearn-color-unfitted-level-2);\n",
              "}\n",
              "\n",
              "/* Label box, darken color on hover, fitted */\n",
              "#sk-container-id-8 div.sk-label.fitted:hover label.sk-toggleable__label.fitted {\n",
              "  color: var(--sklearn-color-text);\n",
              "  background-color: var(--sklearn-color-fitted-level-2);\n",
              "}\n",
              "\n",
              "/* Estimator label */\n",
              "\n",
              "#sk-container-id-8 div.sk-label label {\n",
              "  font-family: monospace;\n",
              "  font-weight: bold;\n",
              "  display: inline-block;\n",
              "  line-height: 1.2em;\n",
              "}\n",
              "\n",
              "#sk-container-id-8 div.sk-label-container {\n",
              "  text-align: center;\n",
              "}\n",
              "\n",
              "/* Estimator-specific */\n",
              "#sk-container-id-8 div.sk-estimator {\n",
              "  font-family: monospace;\n",
              "  border: 1px dotted var(--sklearn-color-border-box);\n",
              "  border-radius: 0.25em;\n",
              "  box-sizing: border-box;\n",
              "  margin-bottom: 0.5em;\n",
              "  /* unfitted */\n",
              "  background-color: var(--sklearn-color-unfitted-level-0);\n",
              "}\n",
              "\n",
              "#sk-container-id-8 div.sk-estimator.fitted {\n",
              "  /* fitted */\n",
              "  background-color: var(--sklearn-color-fitted-level-0);\n",
              "}\n",
              "\n",
              "/* on hover */\n",
              "#sk-container-id-8 div.sk-estimator:hover {\n",
              "  /* unfitted */\n",
              "  background-color: var(--sklearn-color-unfitted-level-2);\n",
              "}\n",
              "\n",
              "#sk-container-id-8 div.sk-estimator.fitted:hover {\n",
              "  /* fitted */\n",
              "  background-color: var(--sklearn-color-fitted-level-2);\n",
              "}\n",
              "\n",
              "/* Specification for estimator info (e.g. \"i\" and \"?\") */\n",
              "\n",
              "/* Common style for \"i\" and \"?\" */\n",
              "\n",
              ".sk-estimator-doc-link,\n",
              "a:link.sk-estimator-doc-link,\n",
              "a:visited.sk-estimator-doc-link {\n",
              "  float: right;\n",
              "  font-size: smaller;\n",
              "  line-height: 1em;\n",
              "  font-family: monospace;\n",
              "  background-color: var(--sklearn-color-background);\n",
              "  border-radius: 1em;\n",
              "  height: 1em;\n",
              "  width: 1em;\n",
              "  text-decoration: none !important;\n",
              "  margin-left: 0.5em;\n",
              "  text-align: center;\n",
              "  /* unfitted */\n",
              "  border: var(--sklearn-color-unfitted-level-1) 1pt solid;\n",
              "  color: var(--sklearn-color-unfitted-level-1);\n",
              "}\n",
              "\n",
              ".sk-estimator-doc-link.fitted,\n",
              "a:link.sk-estimator-doc-link.fitted,\n",
              "a:visited.sk-estimator-doc-link.fitted {\n",
              "  /* fitted */\n",
              "  border: var(--sklearn-color-fitted-level-1) 1pt solid;\n",
              "  color: var(--sklearn-color-fitted-level-1);\n",
              "}\n",
              "\n",
              "/* On hover */\n",
              "div.sk-estimator:hover .sk-estimator-doc-link:hover,\n",
              ".sk-estimator-doc-link:hover,\n",
              "div.sk-label-container:hover .sk-estimator-doc-link:hover,\n",
              ".sk-estimator-doc-link:hover {\n",
              "  /* unfitted */\n",
              "  background-color: var(--sklearn-color-unfitted-level-3);\n",
              "  color: var(--sklearn-color-background);\n",
              "  text-decoration: none;\n",
              "}\n",
              "\n",
              "div.sk-estimator.fitted:hover .sk-estimator-doc-link.fitted:hover,\n",
              ".sk-estimator-doc-link.fitted:hover,\n",
              "div.sk-label-container:hover .sk-estimator-doc-link.fitted:hover,\n",
              ".sk-estimator-doc-link.fitted:hover {\n",
              "  /* fitted */\n",
              "  background-color: var(--sklearn-color-fitted-level-3);\n",
              "  color: var(--sklearn-color-background);\n",
              "  text-decoration: none;\n",
              "}\n",
              "\n",
              "/* Span, style for the box shown on hovering the info icon */\n",
              ".sk-estimator-doc-link span {\n",
              "  display: none;\n",
              "  z-index: 9999;\n",
              "  position: relative;\n",
              "  font-weight: normal;\n",
              "  right: .2ex;\n",
              "  padding: .5ex;\n",
              "  margin: .5ex;\n",
              "  width: min-content;\n",
              "  min-width: 20ex;\n",
              "  max-width: 50ex;\n",
              "  color: var(--sklearn-color-text);\n",
              "  box-shadow: 2pt 2pt 4pt #999;\n",
              "  /* unfitted */\n",
              "  background: var(--sklearn-color-unfitted-level-0);\n",
              "  border: .5pt solid var(--sklearn-color-unfitted-level-3);\n",
              "}\n",
              "\n",
              ".sk-estimator-doc-link.fitted span {\n",
              "  /* fitted */\n",
              "  background: var(--sklearn-color-fitted-level-0);\n",
              "  border: var(--sklearn-color-fitted-level-3);\n",
              "}\n",
              "\n",
              ".sk-estimator-doc-link:hover span {\n",
              "  display: block;\n",
              "}\n",
              "\n",
              "/* \"?\"-specific style due to the `<a>` HTML tag */\n",
              "\n",
              "#sk-container-id-8 a.estimator_doc_link {\n",
              "  float: right;\n",
              "  font-size: 1rem;\n",
              "  line-height: 1em;\n",
              "  font-family: monospace;\n",
              "  background-color: var(--sklearn-color-background);\n",
              "  border-radius: 1rem;\n",
              "  height: 1rem;\n",
              "  width: 1rem;\n",
              "  text-decoration: none;\n",
              "  /* unfitted */\n",
              "  color: var(--sklearn-color-unfitted-level-1);\n",
              "  border: var(--sklearn-color-unfitted-level-1) 1pt solid;\n",
              "}\n",
              "\n",
              "#sk-container-id-8 a.estimator_doc_link.fitted {\n",
              "  /* fitted */\n",
              "  border: var(--sklearn-color-fitted-level-1) 1pt solid;\n",
              "  color: var(--sklearn-color-fitted-level-1);\n",
              "}\n",
              "\n",
              "/* On hover */\n",
              "#sk-container-id-8 a.estimator_doc_link:hover {\n",
              "  /* unfitted */\n",
              "  background-color: var(--sklearn-color-unfitted-level-3);\n",
              "  color: var(--sklearn-color-background);\n",
              "  text-decoration: none;\n",
              "}\n",
              "\n",
              "#sk-container-id-8 a.estimator_doc_link.fitted:hover {\n",
              "  /* fitted */\n",
              "  background-color: var(--sklearn-color-fitted-level-3);\n",
              "}\n",
              "</style><div id=\"sk-container-id-8\" class=\"sk-top-container\"><div class=\"sk-text-repr-fallback\"><pre>RandomForestClassifier(random_state=42)</pre><b>In a Jupyter environment, please rerun this cell to show the HTML representation or trust the notebook. <br />On GitHub, the HTML representation is unable to render, please try loading this page with nbviewer.org.</b></div><div class=\"sk-container\" hidden><div class=\"sk-item\"><div class=\"sk-estimator fitted sk-toggleable\"><input class=\"sk-toggleable__control sk-hidden--visually\" id=\"sk-estimator-id-8\" type=\"checkbox\" checked><label for=\"sk-estimator-id-8\" class=\"sk-toggleable__label fitted sk-toggleable__label-arrow\"><div><div>RandomForestClassifier</div></div><div><a class=\"sk-estimator-doc-link fitted\" rel=\"noreferrer\" target=\"_blank\" href=\"https://scikit-learn.org/1.6/modules/generated/sklearn.ensemble.RandomForestClassifier.html\">?<span>Documentation for RandomForestClassifier</span></a><span class=\"sk-estimator-doc-link fitted\">i<span>Fitted</span></span></div></label><div class=\"sk-toggleable__content fitted\"><pre>RandomForestClassifier(random_state=42)</pre></div> </div></div></div></div>"
            ]
          },
          "metadata": {},
          "execution_count": 221
        }
      ]
    },
    {
      "cell_type": "markdown",
      "source": [
        "evaluation"
      ],
      "metadata": {
        "id": "3SshH-qhDeLV"
      }
    },
    {
      "cell_type": "code",
      "source": [
        "y_pred = rf.predict(X_test)\n",
        "print(\"Accuracy:\", accuracy_score(y_test, y_pred))\n",
        "print(classification_report(y_test, y_pred))"
      ],
      "metadata": {
        "colab": {
          "base_uri": "https://localhost:8080/"
        },
        "id": "QzYlPjJqDgcz",
        "outputId": "3f4dad0f-4fda-4db3-ff8d-1af3b3b1c443"
      },
      "execution_count": null,
      "outputs": [
        {
          "output_type": "stream",
          "name": "stdout",
          "text": [
            "Accuracy: 0.6198410485220301\n",
            "              precision    recall  f1-score   support\n",
            "\n",
            "           0       0.68      0.02      0.03      5498\n",
            "           1       0.62      1.00      0.76      8846\n",
            "\n",
            "    accuracy                           0.62     14344\n",
            "   macro avg       0.65      0.51      0.40     14344\n",
            "weighted avg       0.64      0.62      0.48     14344\n",
            "\n"
          ]
        }
      ]
    },
    {
      "cell_type": "code",
      "source": [
        "conf_matrix = sns.heatmap(\n",
        "    confusion_matrix(y_test, y_pred),\n",
        "    annot=True, fmt='d', cmap='Blues',\n",
        "    xticklabels=[\"Loss\", \"Win\"], yticklabels=[\"Loss\", \"Win\"]\n",
        ")\n",
        "plt.title(\"Confusion Matrix\")\n",
        "plt.xlabel(\"Predicted\")\n",
        "plt.ylabel(\"Actual\")\n",
        "plt.show()"
      ],
      "metadata": {
        "colab": {
          "base_uri": "https://localhost:8080/",
          "height": 472
        },
        "id": "RH92SxqKDj-o",
        "outputId": "ab32400c-20e7-4f7f-a36a-91621455f179"
      },
      "execution_count": null,
      "outputs": [
        {
          "output_type": "display_data",
          "data": {
            "text/plain": [
              "<Figure size 640x480 with 2 Axes>"
            ],
            "image/png": "[encoded data removed]"
          },
          "metadata": {}
        }
      ]
    },
    {
      "cell_type": "markdown",
      "source": [
        "train the model"
      ],
      "metadata": {
        "id": "yXv6Kc2dDnck"
      }
    },
    {
      "cell_type": "code",
      "source": [
        "# STEP 8: Load schedule and latest stats\n",
        "schedule = pd.read_csv('/content/LeagueSchedule24_25.csv')\n",
        "latest_stats = team_stats.sort_values(by='gameDate').groupby('teamId').tail(1)\n",
        "team_features = latest_stats.set_index('teamId').to_dict(orient='index')"
      ],
      "metadata": {
        "id": "zfPFg36kDpCt"
      },
      "execution_count": null,
      "outputs": []
    },
    {
      "cell_type": "code",
      "source": [
        "# STEP 9: Build future_df manually\n",
        "future_rows = []\n",
        "\n",
        "for _, row in schedule.iterrows():\n",
        "    home_id = row['hometeamId']\n",
        "    away_id = row['awayteamId']\n",
        "    if home_id in team_features and away_id in team_features:\n",
        "        h, a = team_features[home_id], team_features[away_id]\n",
        "        future_rows.append({\n",
        "            'gameId': row['gameId'],\n",
        "            'home_teamId': home_id,\n",
        "            'away_teamId': away_id,\n",
        "            'home_pointsInThePaint': h.get('pointsInThePaint'),\n",
        "            'home_pointsFastBreak': h.get('pointsFastBreak'),\n",
        "            'home_pointsFromTurnovers': h.get('pointsFromTurnovers'),\n",
        "            'home_pointsSecondChance': h.get('pointsSecondChance'),\n",
        "            'home_seasonWins': h.get('seasonWins'),\n",
        "            'home_seasonLosses': h.get('seasonLosses'),\n",
        "            'away_pointsInThePaint': a.get('pointsInThePaint'),\n",
        "            'away_pointsFastBreak': a.get('pointsFastBreak'),\n",
        "            'away_pointsFromTurnovers': a.get('pointsFromTurnovers'),\n",
        "            'away_pointsSecondChance': a.get('pointsSecondChance'),\n",
        "            'away_seasonWins': a.get('seasonWins'),\n",
        "            'away_seasonLosses': a.get('seasonLosses')\n",
        "        })\n",
        "\n",
        "future_df = pd.DataFrame(future_rows)"
      ],
      "metadata": {
        "id": "EMPTvgw5DsYd"
      },
      "execution_count": null,
      "outputs": []
    },
    {
      "cell_type": "markdown",
      "source": [
        "evaluate the model"
      ],
      "metadata": {
        "id": "bhy8vWupDvyw"
      }
    },
    {
      "cell_type": "code",
      "source": [
        "# STEP 10: Predict using actual columns\n",
        "X_future = future_df.drop(columns=['gameId', 'home_teamId', 'away_teamId'])\n",
        "future_df[\"home_win_proba\"] = rf.predict_proba(X_future)[:, 1]\n",
        "future_df[\"predicted_winner\"] = future_df[\"home_win_proba\"].apply(lambda x: \"Home\" if x > 0.5 else \"Away\")"
      ],
      "metadata": {
        "id": "4SVrJQP_DxS4"
      },
      "execution_count": null,
      "outputs": []
    },
    {
      "cell_type": "code",
      "source": [
        "# STEP 11: Map team names and plot\n",
        "team_id_to_name = latest_stats.set_index('teamId')['teamName'].to_dict()\n",
        "future_df['home_team'] = future_df['home_teamId'].map(team_id_to_name)\n",
        "future_df['away_team'] = future_df['away_teamId'].map(team_id_to_name)"
      ],
      "metadata": {
        "id": "9xDYcqToDzZm"
      },
      "execution_count": null,
      "outputs": []
    },
    {
      "cell_type": "code",
      "source": [
        "top10 = future_df.sort_values(by='home_win_proba', ascending=False).head(10)\n",
        "print(top10[['home_team', 'away_team', 'home_win_proba', 'predicted_winner']])"
      ],
      "metadata": {
        "colab": {
          "base_uri": "https://localhost:8080/"
        },
        "id": "cGc46AGqD26f",
        "outputId": "67d7a726-29a7-4b66-f904-38528e32ebe8"
      },
      "execution_count": null,
      "outputs": [
        {
          "output_type": "stream",
          "name": "stdout",
          "text": [
            "     home_team away_team  home_win_proba predicted_winner\n",
            "48     Rockets  Pelicans            0.94             Home\n",
            "194   Warriors  Pelicans            0.94             Home\n",
            "184   Warriors  Pelicans            0.94             Home\n",
            "370      Bucks   Wizards            0.94             Home\n",
            "433    Rockets  Pelicans            0.94             Home\n",
            "1187    Pacers      Jazz            0.94             Home\n",
            "1194    Lakers  Pelicans            0.94             Home\n",
            "958     Lakers  Pelicans            0.94             Home\n",
            "981    Rockets  Pelicans            0.94             Home\n",
            "450      Bucks   Wizards            0.94             Home\n"
          ]
        }
      ]
    },
    {
      "cell_type": "code",
      "source": [
        "plt.figure(figsize=(12, 6))\n",
        "plt.barh(\n",
        "    y=[f\"{row['home_team']} vs {row['away_team']}\" for _, row in top10.iterrows()],\n",
        "    width=top10['home_win_proba']\n",
        ")\n",
        "plt.xlabel(\"Predicted Home Win Probability\")\n",
        "plt.title(\"Top 10 Predicted NBA Matchups\")\n",
        "plt.gca().invert_yaxis()\n",
        "plt.tight_layout()\n",
        "plt.show()\n"
      ],
      "metadata": {
        "colab": {
          "base_uri": "https://localhost:8080/",
          "height": 354
        },
        "id": "MDyE0FZdD83W",
        "outputId": "3633414d-7ce5-4c66-8696-8730583a3b9b"
      },
      "execution_count": null,
      "outputs": [
        {
          "output_type": "display_data",
          "data": {
            "text/plain": [
              "<Figure size 1200x600 with 1 Axes>"
            ],
            "image/png": "[encoded data removed]"
          },
          "metadata": {}
        }
      ]
    },
    {
      "cell_type": "code",
      "source": [
        "# STEP 12: Save predictions\n",
        "future_df[['gameId', 'home_team', 'away_team', 'home_win_proba', 'predicted_winner']].to_csv(\n",
        "    '/content/NBA_Predicted_Games.csv', index=False)\n"
      ],
      "metadata": {
        "id": "VL1_w-ntEDXP"
      },
      "execution_count": null,
      "outputs": []
    },
    {
      "cell_type": "code",
      "source": [
        "# STEP 13: Simulate team records\n",
        "results = []\n",
        "for _, row in future_df.iterrows():\n",
        "    if row['predicted_winner'] == 'Home':\n",
        "        results.append((row['home_team'], 'W'))\n",
        "        results.append((row['away_team'], 'L'))\n",
        "    else:\n",
        "        results.append((row['home_team'], 'L'))\n",
        "        results.append((row['away_team'], 'W'))\n",
        "\n",
        "results_df = pd.DataFrame(results, columns=['team', 'result'])"
      ],
      "metadata": {
        "id": "V2NR2AbHsI92"
      },
      "execution_count": null,
      "outputs": []
    },
    {
      "cell_type": "code",
      "source": [
        "# STEP 14: Calculate standings\n",
        "team_records = results_df.groupby(['team', 'result']).size().unstack(fill_value=0)\n",
        "team_records['simulated_win_pct'] = team_records['W'] / (team_records['W'] + team_records['L'])\n",
        "team_records = team_records.sort_values(by='simulated_win_pct', ascending=False)\n",
        "print(team_records)"
      ],
      "metadata": {
        "colab": {
          "base_uri": "https://localhost:8080/"
        },
        "id": "qCIOFRPusLR-",
        "outputId": "4efeed9b-bd28-4895-dc0d-5bb073e5cc3c"
      },
      "execution_count": null,
      "outputs": [
        {
          "output_type": "stream",
          "name": "stdout",
          "text": [
            "result          L   W  simulated_win_pct\n",
            "team                                    \n",
            "Knicks          5  82           0.942529\n",
            "Rockets         8  78           0.906977\n",
            "Pacers         15  71           0.825581\n",
            "Thunder        16  70           0.813953\n",
            "Clippers       17  70           0.804598\n",
            "Bucks          17  69           0.802326\n",
            "Warriors       19  69           0.784091\n",
            "Pistons        20  67           0.770115\n",
            "Cavaliers      23  63           0.732558\n",
            "Trail Blazers  24  61           0.717647\n",
            "Grizzlies      25  62           0.712644\n",
            "Lakers         26  62           0.704545\n",
            "Nuggets        33  54           0.620690\n",
            "Magic          42  43           0.505882\n",
            "76ers          44  43           0.494253\n",
            "Heat           46  41           0.471264\n",
            "Kings          46  41           0.471264\n",
            "Raptors        48  39           0.448276\n",
            "Celtics        48  39           0.448276\n",
            "Bulls          51  36           0.413793\n",
            "Timberwolves   59  28           0.321839\n",
            "Mavericks      59  27           0.313953\n",
            "Nets           65  21           0.244186\n",
            "Pelicans       71  14           0.164706\n",
            "Hawks          72  14           0.162791\n",
            "Spurs          76  11           0.126437\n",
            "Suns           80   7           0.080460\n",
            "Jazz           80   7           0.080460\n",
            "Wizards        81   6           0.068966\n",
            "Hornets        83   4           0.045977\n"
          ]
        }
      ]
    },
    {
      "cell_type": "code",
      "source": [
        "# STEP 15: Save standings\n",
        "team_records.to_csv('/content/NBA_Simulated_Standings.csv')\n",
        "print(\"✅ Files saved:\\n- NBA_Predicted_Games.csv\\n- NBA_Simulated_Standings.csv\")"
      ],
      "metadata": {
        "colab": {
          "base_uri": "https://localhost:8080/"
        },
        "id": "xfBtIcWPsiBX",
        "outputId": "31daf85d-9506-433b-a3bc-6f3de3b9d824"
      },
      "execution_count": null,
      "outputs": [
        {
          "output_type": "stream",
          "name": "stdout",
          "text": [
            "✅ Files saved:\n",
            "- NBA_Predicted_Games.csv\n",
            "- NBA_Simulated_Standings.csv\n"
          ]
        }
      ]
    }
  ]
}